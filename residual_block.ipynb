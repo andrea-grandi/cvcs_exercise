{
 "cells": [
  {
   "cell_type": "code",
   "execution_count": 2,
   "id": "d3e24c5d-8384-4d13-bbe0-3580d2879ab1",
   "metadata": {
    "tags": []
   },
   "outputs": [],
   "source": [
    "import torch\n",
    "from torch import nn\n",
    "from torch.nn import functional as F\n",
    "from torch import Tensor"
   ]
  },
  {
   "cell_type": "code",
   "execution_count": 6,
   "id": "d6de712e-4932-46bc-804c-bbd9f260984f",
   "metadata": {},
   "outputs": [],
   "source": [
    "class ResidualBlock(nn.Module):\n",
    "    def __init__(self, inplanes: int, planes: int, stride: int) -> None:\n",
    "        super(ResidualBlock, self).__init__()\n",
    "        self.in_channels = inplanes\n",
    "        self.out_channels = planes\n",
    "        self.stride = stride\n",
    "        self.conv1 = nn.Conv2d(\n",
    "            in_channels = self.in_channels,\n",
    "            out_channels = self.out_channels,\n",
    "            kernel_size = 3,\n",
    "            stride = self.stride, \n",
    "            padding = 1\n",
    "        )\n",
    "        self.bn1 = nn.BatchNorm2d(self.out_channels)\n",
    "        self.relu = nn.ReLU()\n",
    "        self.conv2 = nn.Conv2d(\n",
    "            in_channels = self.out_channels,\n",
    "            out_channels = self.out_channels,\n",
    "            kernel_size = 3,\n",
    "            padding = 1\n",
    "        )\n",
    "        self.bn2 = nn.BatchNorm2d(self.out_channels)\n",
    "        self.downsample = nn.Conv2d(\n",
    "                in_channels = self.in_channels,\n",
    "                out_channels = self.out_channels,\n",
    "                kernel_size = 1,\n",
    "                stride = self.stride\n",
    "        )\n",
    "        self.sh_conv = nn.BatchNorm2d(self.out_channels)\n",
    "        \n",
    "    def forward(self, X: Tensor) -> Tensor:\n",
    "        if self.in_channels != self.out_channels or self.stride > 1:\n",
    "            residual = self.batchNorm2d(self.sh_conv(X))\n",
    "        else:\n",
    "            residual = X\n",
    "            \n",
    "        out = nn.ReLU(self.batchNorm2d(self.conv1(X)))\n",
    "        out = nn.batchNorm2d(self.conv2(X))\n",
    "        \n",
    "        out += residual\n",
    "        out = nn.ReLU(out)\n",
    "        \n",
    "        return out"
   ]
  },
  {
   "cell_type": "code",
   "execution_count": 26,
   "id": "66dac1fe-643a-4526-a4aa-49f4d9c81597",
   "metadata": {
    "tags": []
   },
   "outputs": [
    {
     "name": "stdout",
     "output_type": "stream",
     "text": [
      "Dimensioni dell'input: torch.Size([16, 3, 32, 32])\n",
      "Dimensioni dell'output: torch.Size([16, 64, 32, 32])\n"
     ]
    }
   ],
   "source": [
    "batch_size = 16\n",
    "channels = 3  # Numero di canali\n",
    "height, width = 32, 32  # Dimensioni dell'immagine\n",
    "\n",
    "# Crea un input di esempio\n",
    "input_tensor = torch.randn(batch_size, channels, height, width)\n",
    "\n",
    "# Definisci i parametri del blocco residuo\n",
    "inplanes = channels\n",
    "planes = 64\n",
    "stride = 1\n",
    "\n",
    "# Crea un'istanza del blocco residuo\n",
    "residual_block = ResidualBlock(inplanes, planes, stride)\n",
    "\n",
    "# Passa l'input attraverso il blocco residuo\n",
    "output_tensor = residual_block(input_tensor)\n",
    "\n",
    "# Verifica le dimensioni dell'output\n",
    "print(\"Dimensioni dell'input:\", input_tensor.size())\n",
    "print(\"Dimensioni dell'output:\", output_tensor.size())"
   ]
  },
  {
   "cell_type": "code",
   "execution_count": null,
   "id": "488a890d-420b-49f6-99b1-2d650575dbf4",
   "metadata": {},
   "outputs": [],
   "source": []
  }
 ],
 "metadata": {
  "kernelspec": {
   "display_name": "Python 3 (ipykernel)",
   "language": "python",
   "name": "python3"
  },
  "language_info": {
   "codemirror_mode": {
    "name": "ipython",
    "version": 3
   },
   "file_extension": ".py",
   "mimetype": "text/x-python",
   "name": "python",
   "nbconvert_exporter": "python",
   "pygments_lexer": "ipython3",
   "version": "3.11.5"
  }
 },
 "nbformat": 4,
 "nbformat_minor": 5
}
