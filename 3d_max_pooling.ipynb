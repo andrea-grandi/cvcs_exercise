{
 "cells": [
  {
   "cell_type": "code",
   "execution_count": 1,
   "id": "a5139edf-a8b8-4e04-83a6-aacb41c74d70",
   "metadata": {
    "tags": []
   },
   "outputs": [],
   "source": [
    "import random\n",
    "import torch\n",
    "\n",
    "n = random.randint(2, 6)\n",
    "iC = random.randint(2, 6)\n",
    "T = random.randint(10, 20)\n",
    "H = random.randint(10, 20)\n",
    "W = random.randint(10, 20)\n",
    "kT = random.randint(2, 5)\n",
    "kH = random.randint(2, 5)\n",
    "kW = random.randint(2, 5)\n",
    "s = random.randint(2, 3)\n",
    "input = torch.rand(n, iC, T, H, W)"
   ]
  },
  {
   "cell_type": "code",
   "execution_count": 23,
   "id": "4693343b-7d93-4d3f-964c-3c5f917ca311",
   "metadata": {
    "tags": []
   },
   "outputs": [
    {
     "data": {
      "text/plain": [
       "torch.Size([4, 5, 20, 17, 13])"
      ]
     },
     "execution_count": 23,
     "metadata": {},
     "output_type": "execute_result"
    }
   ],
   "source": [
    "n, iC, T, H, W = input.shape\n",
    "input.shape"
   ]
  },
  {
   "cell_type": "code",
   "execution_count": 9,
   "id": "2d171cd1-d336-4629-a85e-cbd87db94daf",
   "metadata": {
    "tags": []
   },
   "outputs": [],
   "source": [
    "oT = int((T-kT)/s+1)\n",
    "oH = int((H-kH)/s+1)\n",
    "oW = int((W-kW)/s+1)"
   ]
  },
  {
   "cell_type": "code",
   "execution_count": 13,
   "id": "2243b995-e12d-43da-a1f7-ad1d7665d144",
   "metadata": {
    "tags": []
   },
   "outputs": [],
   "source": [
    "out = torch.zeros((n, iC, oT, oH, oW), dtype=torch.float32)"
   ]
  },
  {
   "cell_type": "code",
   "execution_count": 15,
   "id": "f8dd06dc-18b3-4e72-9657-e8185094679f",
   "metadata": {
    "tags": []
   },
   "outputs": [
    {
     "data": {
      "text/plain": [
       "torch.Size([4, 5, 9, 7, 6])"
      ]
     },
     "execution_count": 15,
     "metadata": {},
     "output_type": "execute_result"
    }
   ],
   "source": [
    "out.shape"
   ]
  },
  {
   "cell_type": "code",
   "execution_count": 19,
   "id": "dcd87e7a-103b-4196-af13-adf1a9b0d9b2",
   "metadata": {
    "tags": []
   },
   "outputs": [],
   "source": [
    "for x in range(oT):\n",
    "    for y in range(oH):\n",
    "        for z in range(oW):\n",
    "            tmp = torch.flatten(input[:,:,x*s:x*s+kT,y*s:y*s+kH,z*s:z*s+kW], start_dim=2)\n",
    "            out[:,:,x,y,z] = torch.max(tmp, dim=-1)[0]"
   ]
  },
  {
   "cell_type": "code",
   "execution_count": 21,
   "id": "386fda60-5e3f-4627-981e-2936eaf1636f",
   "metadata": {
    "tags": []
   },
   "outputs": [
    {
     "data": {
      "text/plain": [
       "torch.Size([4, 5, 9, 7, 6])"
      ]
     },
     "execution_count": 21,
     "metadata": {},
     "output_type": "execute_result"
    }
   ],
   "source": [
    "out.shape"
   ]
  },
  {
   "cell_type": "code",
   "execution_count": null,
   "id": "66b7693c-49a9-4334-a65d-ec20d58e3473",
   "metadata": {},
   "outputs": [],
   "source": []
  }
 ],
 "metadata": {
  "kernelspec": {
   "display_name": "Python 3 (ipykernel)",
   "language": "python",
   "name": "python3"
  },
  "language_info": {
   "codemirror_mode": {
    "name": "ipython",
    "version": 3
   },
   "file_extension": ".py",
   "mimetype": "text/x-python",
   "name": "python",
   "nbconvert_exporter": "python",
   "pygments_lexer": "ipython3",
   "version": "3.11.7"
  }
 },
 "nbformat": 4,
 "nbformat_minor": 5
}
