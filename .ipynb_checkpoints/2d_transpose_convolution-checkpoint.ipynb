{
 "cells": [
  {
   "cell_type": "code",
   "execution_count": 34,
   "id": "f5a44f39-2545-4c50-9405-048540f35775",
   "metadata": {
    "tags": []
   },
   "outputs": [],
   "source": [
    "import random\n",
    "import torch\n",
    "import numpy as np\n",
    "\n",
    "n = random.randint(2, 6)\n",
    "iC = random.randint(2, 6)\n",
    "oC = random.randint(2, 6)\n",
    "H = random.randint(10, 20)\n",
    "W = random.randint(10, 20)\n",
    "kH = random.randint(2, 6)\n",
    "kW = random.randint(2, 6)\n",
    "s = random.randint(2, 6)\n",
    "\n",
    "input = torch.rand(n, iC, H, W)\n",
    "kernel = torch.rand(iC, oC, kH, kW)"
   ]
  },
  {
   "cell_type": "code",
   "execution_count": 35,
   "id": "a7b8c378-31db-4573-9155-ad01dcdc4385",
   "metadata": {
    "tags": []
   },
   "outputs": [
    {
     "name": "stdout",
     "output_type": "stream",
     "text": [
      "input: torch.Size([2, 6, 15, 17])\n",
      "kernel: torch.Size([6, 3, 6, 4])\n"
     ]
    }
   ],
   "source": [
    "print(f\"input: {input.shape}\")\n",
    "print(f\"kernel: {kernel.shape}\")"
   ]
  },
  {
   "cell_type": "code",
   "execution_count": 41,
   "id": "ad694268-9959-49ef-b106-1cc7468b6251",
   "metadata": {
    "tags": []
   },
   "outputs": [],
   "source": [
    "n, iC, H, W = input.shape\n",
    "_, oC, kH, kW = kernel.shape\n",
    "oH = (H-1)*s-(2*0)+1*(kH-1)+1\n",
    "oW = (W-1)*s-(2*0)+1*(kW-1)+1\n",
    "out = torch.zeros((n, oC, oH, oW))"
   ]
  },
  {
   "cell_type": "code",
   "execution_count": 42,
   "id": "99860996-29e7-4c6d-ba82-6071045f4c58",
   "metadata": {
    "tags": []
   },
   "outputs": [
    {
     "data": {
      "text/plain": [
       "torch.Size([2, 3, 76, 84])"
      ]
     },
     "execution_count": 42,
     "metadata": {},
     "output_type": "execute_result"
    }
   ],
   "source": [
    "out.shape"
   ]
  },
  {
   "cell_type": "code",
   "execution_count": 43,
   "id": "1a6ecd1c-b24f-46a0-843e-20103684aff0",
   "metadata": {
    "tags": []
   },
   "outputs": [
    {
     "data": {
      "text/plain": [
       "torch.Size([2, 3, 76, 84])"
      ]
     },
     "execution_count": 43,
     "metadata": {},
     "output_type": "execute_result"
    }
   ],
   "source": [
    "for batch in range(n):\n",
    "    for in_channel in range(iC):\n",
    "        # Now equal to a convolution \n",
    "        # but refered to input tensor\n",
    "        # so H and W (not oH and oW)\n",
    "        for i in range(H):\n",
    "            for j in range(W):\n",
    "                start_h = i*s\n",
    "                start_w = j*s\n",
    "                \n",
    "                # Now apply traspose conv\n",
    "                for out_channel in range(oC):\n",
    "                    for kh in range(kH):\n",
    "                        for kw in range(kW):\n",
    "                            out_h = start_h+kh\n",
    "                            out_w = start_w+kw\n",
    "                            \n",
    "                            out[batch, out_channel, out_h, out_w] += input[batch, in_channel, i, j]*kernel[in_channel, out_channel, kh, kw]\n",
    "                            \n",
    "out.shape"
   ]
  },
  {
   "cell_type": "code",
   "execution_count": null,
   "id": "cb1f1566-d895-475e-b40a-f75cf88aed7e",
   "metadata": {},
   "outputs": [],
   "source": []
  }
 ],
 "metadata": {
  "kernelspec": {
   "display_name": "Python 3 (ipykernel)",
   "language": "python",
   "name": "python3"
  },
  "language_info": {
   "codemirror_mode": {
    "name": "ipython",
    "version": 3
   },
   "file_extension": ".py",
   "mimetype": "text/x-python",
   "name": "python",
   "nbconvert_exporter": "python",
   "pygments_lexer": "ipython3",
   "version": "3.11.5"
  }
 },
 "nbformat": 4,
 "nbformat_minor": 5
}
