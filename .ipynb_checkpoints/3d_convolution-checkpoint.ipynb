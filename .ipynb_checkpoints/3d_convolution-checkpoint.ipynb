{
 "cells": [
  {
   "cell_type": "code",
   "execution_count": 81,
   "id": "414ebcbe-5205-4829-ba41-fff67c7feb94",
   "metadata": {
    "tags": []
   },
   "outputs": [],
   "source": [
    "import random\n",
    "import torch\n",
    "\n",
    "n = random.randint(2, 6)\n",
    "iC = random.randint(2, 6)\n",
    "oC = random.randint(2, 6)\n",
    "T = random.randint(10, 20)\n",
    "H = random.randint(10, 20)\n",
    "W = random.randint(10, 20)\n",
    "kT = random.randint(2, 6)\n",
    "kH = random.randint(2, 6)\n",
    "kW = random.randint(2, 6)\n",
    "\n",
    "input = torch.rand(n, iC, T, H, W)\n",
    "kernel = torch.rand(oC, iC, kT, kH, kW)\n",
    "bias = torch.rand(oC)"
   ]
  },
  {
   "cell_type": "code",
   "execution_count": 83,
   "id": "47d2a965-ef74-4dcf-8dc1-ef4746c8e979",
   "metadata": {
    "tags": []
   },
   "outputs": [],
   "source": [
    "import matplotlib.pyplot as plt"
   ]
  },
  {
   "cell_type": "code",
   "execution_count": 85,
   "id": "f23075d6-1e8b-4680-9770-db988b6b6c6f",
   "metadata": {
    "tags": []
   },
   "outputs": [],
   "source": [
    "n, iC, T, H, W = input.shape\n",
    "oC, iC, kT, kH, kW = kernel.shape"
   ]
  },
  {
   "cell_type": "code",
   "execution_count": 87,
   "id": "4b5f0405-32e1-4fed-acc8-6cfd2990cb9a",
   "metadata": {
    "tags": []
   },
   "outputs": [],
   "source": [
    "oH = H-(kH-1)\n",
    "oW = W-(kW-1)\n",
    "oT = T-(kT-1)"
   ]
  },
  {
   "cell_type": "code",
   "execution_count": 89,
   "id": "4c5fff68-4770-4e19-ab93-bc2f4c19b968",
   "metadata": {
    "tags": []
   },
   "outputs": [
    {
     "data": {
      "text/plain": [
       "torch.Size([4, 2, 15, 7, 14])"
      ]
     },
     "execution_count": 89,
     "metadata": {},
     "output_type": "execute_result"
    }
   ],
   "source": [
    "out = torch.zeros(n,oC,oT,oH,oW)\n",
    "out.shape"
   ]
  },
  {
   "cell_type": "code",
   "execution_count": 91,
   "id": "055a1102-2ccd-4e8b-9e4b-45e14f200c86",
   "metadata": {
    "tags": []
   },
   "outputs": [],
   "source": [
    "for x in range(oT):\n",
    "    for y in range(oH):\n",
    "        for z in range(oW):\n",
    "            inp = input.unsqueeze(1)[:,:,:,x:x+kT,y:y+kH,z:z+kW]\n",
    "            ker = kernel.unsqueeze(0)\n",
    "            out[:,:,x,y,z]=bias+(inp*ker).sum((-1,-2,-3, -4))            "
   ]
  },
  {
   "cell_type": "code",
   "execution_count": 93,
   "id": "d06b460b-0739-4362-86e3-ed518dc85c44",
   "metadata": {
    "tags": []
   },
   "outputs": [
    {
     "data": {
      "text/plain": [
       "torch.Size([4, 2, 15, 7, 14])"
      ]
     },
     "execution_count": 93,
     "metadata": {},
     "output_type": "execute_result"
    }
   ],
   "source": [
    "out.shape"
   ]
  },
  {
   "cell_type": "code",
   "execution_count": null,
   "id": "de7b4993-e0b9-4062-b4a1-cd99bec24f09",
   "metadata": {},
   "outputs": [],
   "source": []
  }
 ],
 "metadata": {
  "kernelspec": {
   "display_name": "Python 3 (ipykernel)",
   "language": "python",
   "name": "python3"
  },
  "language_info": {
   "codemirror_mode": {
    "name": "ipython",
    "version": 3
   },
   "file_extension": ".py",
   "mimetype": "text/x-python",
   "name": "python",
   "nbconvert_exporter": "python",
   "pygments_lexer": "ipython3",
   "version": "3.11.7"
  }
 },
 "nbformat": 4,
 "nbformat_minor": 5
}
