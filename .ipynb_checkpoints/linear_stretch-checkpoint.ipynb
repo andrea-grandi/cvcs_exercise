{
 "cells": [
  {
   "cell_type": "code",
   "execution_count": 13,
   "id": "4a0e0cb4-cdc0-496c-a9b0-767b3fd51f37",
   "metadata": {
    "tags": []
   },
   "outputs": [],
   "source": [
    "import random\n",
    "import numpy as np\n",
    "import torch\n",
    "from skimage import data\n",
    "from skimage.transform import resize\n",
    "\n",
    "im = data.coffee()\n",
    "im = resize(im, (im.shape[0] // 8, im.shape[1] // 8), mode='reflect', preserve_range=True, anti_aliasing=True).astype(np.uint8)\n",
    "im = np.swapaxes(np.swapaxes(im, 0, 2), 1, 2)\n",
    "im = torch.from_numpy(im)\n",
    "\n",
    "a = random.uniform(0,2)\n",
    "b = random.uniform(-50,50)"
   ]
  },
  {
   "cell_type": "code",
   "execution_count": 14,
   "id": "c167f545-24a7-41e1-bc1d-58e8fecbe569",
   "metadata": {
    "tags": []
   },
   "outputs": [
    {
     "data": {
      "text/plain": [
       "torch.Size([3, 50, 75])"
      ]
     },
     "execution_count": 14,
     "metadata": {},
     "output_type": "execute_result"
    }
   ],
   "source": [
    "im.shape"
   ]
  },
  {
   "cell_type": "code",
   "execution_count": 15,
   "id": "9cbd8643-2c51-4149-882d-088a4147e744",
   "metadata": {
    "tags": []
   },
   "outputs": [
    {
     "data": {
      "text/plain": [
       "0.5863599641795723"
      ]
     },
     "execution_count": 15,
     "metadata": {},
     "output_type": "execute_result"
    }
   ],
   "source": [
    "a"
   ]
  },
  {
   "cell_type": "code",
   "execution_count": 16,
   "id": "06ed1744-a3b6-4aed-bc75-c5c06f14851a",
   "metadata": {
    "tags": []
   },
   "outputs": [
    {
     "data": {
      "text/plain": [
       "4.074135373341946"
      ]
     },
     "execution_count": 16,
     "metadata": {},
     "output_type": "execute_result"
    }
   ],
   "source": [
    "b"
   ]
  },
  {
   "cell_type": "code",
   "execution_count": 29,
   "id": "f7eea176-2d25-4f57-99ad-6c98168fcafd",
   "metadata": {
    "tags": []
   },
   "outputs": [],
   "source": [
    "out = a * im.float() + b"
   ]
  },
  {
   "cell_type": "code",
   "execution_count": 30,
   "id": "d6210be4-6e30-4eb3-85fc-b582ce7a6a96",
   "metadata": {
    "tags": []
   },
   "outputs": [
    {
     "data": {
      "text/plain": [
       "tensor([[[ 16.3877,  16.9741,  19.9059,  ..., 131.9006, 133.0733, 134.2461],\n",
       "         [ 15.8013,  17.5604,  21.0786,  ..., 135.4188, 134.8324, 130.7279],\n",
       "         [ 16.9741,  18.7331,  22.2513,  ..., 136.0051, 133.0733, 129.5552],\n",
       "         ...,\n",
       "         [122.5189, 126.6234, 124.8643,  ..., 100.2372, 101.4099,  91.4418],\n",
       "         [121.3461, 120.7598, 123.1052,  ...,  99.6508,  97.8917,  89.0963],\n",
       "         [118.4143, 123.1052, 127.2097,  ..., 101.4099,  90.8554,  90.2691]],\n",
       "\n",
       "        [[ 11.6968,  12.2832,  14.6286,  ..., 102.5826, 106.6871, 107.2735],\n",
       "         [ 11.6968,  12.8695,  15.2150,  ..., 109.0326, 110.7916, 103.7553],\n",
       "         [ 12.2832,  13.4559,  15.8013,  ..., 111.9644, 106.6871, 101.4099],\n",
       "         ...,\n",
       "         [ 88.5100,  95.5463,  93.7872,  ...,  50.9829,  50.9829,  44.5330],\n",
       "         [ 87.3372,  87.3372,  90.8554,  ...,  50.3966,  48.0511,  41.6012],\n",
       "         [ 85.5782,  91.4418,  96.7190,  ...,  52.1557,  42.7739,  43.9466]],\n",
       "\n",
       "        [[  8.1787,   8.7650,   9.9377,  ...,  76.7828,  82.0600,  81.4737],\n",
       "         [  8.1787,   9.3514,  10.5241,  ...,  84.4054,  87.3372,  79.1282],\n",
       "         [  8.7650,   9.9377,  10.5241,  ...,  87.9236,  82.6464,  76.7828],\n",
       "         ...,\n",
       "         [ 62.1238,  69.7465,  69.1601,  ...,  24.5967,  24.5967,  22.2513],\n",
       "         [ 61.5374,  60.9511,  64.4692,  ...,  24.5967,  22.8377,  20.4922],\n",
       "         [ 60.3647,  65.0556,  70.3328,  ...,  25.7695,  21.0786,  22.2513]]])"
      ]
     },
     "execution_count": 30,
     "metadata": {},
     "output_type": "execute_result"
    }
   ],
   "source": [
    "out"
   ]
  },
  {
   "cell_type": "code",
   "execution_count": 31,
   "id": "1ba0f3b8-7433-4ee4-ac32-089778563948",
   "metadata": {
    "tags": []
   },
   "outputs": [],
   "source": [
    "out = torch.round(out)"
   ]
  },
  {
   "cell_type": "code",
   "execution_count": 32,
   "id": "7391c95a-1350-451c-ab22-c474a0fa1990",
   "metadata": {
    "tags": []
   },
   "outputs": [
    {
     "data": {
      "text/plain": [
       "tensor([[[ 16.,  17.,  20.,  ..., 132., 133., 134.],\n",
       "         [ 16.,  18.,  21.,  ..., 135., 135., 131.],\n",
       "         [ 17.,  19.,  22.,  ..., 136., 133., 130.],\n",
       "         ...,\n",
       "         [123., 127., 125.,  ..., 100., 101.,  91.],\n",
       "         [121., 121., 123.,  ..., 100.,  98.,  89.],\n",
       "         [118., 123., 127.,  ..., 101.,  91.,  90.]],\n",
       "\n",
       "        [[ 12.,  12.,  15.,  ..., 103., 107., 107.],\n",
       "         [ 12.,  13.,  15.,  ..., 109., 111., 104.],\n",
       "         [ 12.,  13.,  16.,  ..., 112., 107., 101.],\n",
       "         ...,\n",
       "         [ 89.,  96.,  94.,  ...,  51.,  51.,  45.],\n",
       "         [ 87.,  87.,  91.,  ...,  50.,  48.,  42.],\n",
       "         [ 86.,  91.,  97.,  ...,  52.,  43.,  44.]],\n",
       "\n",
       "        [[  8.,   9.,  10.,  ...,  77.,  82.,  81.],\n",
       "         [  8.,   9.,  11.,  ...,  84.,  87.,  79.],\n",
       "         [  9.,  10.,  11.,  ...,  88.,  83.,  77.],\n",
       "         ...,\n",
       "         [ 62.,  70.,  69.,  ...,  25.,  25.,  22.],\n",
       "         [ 62.,  61.,  64.,  ...,  25.,  23.,  20.],\n",
       "         [ 60.,  65.,  70.,  ...,  26.,  21.,  22.]]])"
      ]
     },
     "execution_count": 32,
     "metadata": {},
     "output_type": "execute_result"
    }
   ],
   "source": [
    "torch.clamp(out, 0, 255)"
   ]
  },
  {
   "cell_type": "code",
   "execution_count": 27,
   "id": "d579452a-d1c5-4670-8662-5e2cf60d5e2b",
   "metadata": {
    "tags": []
   },
   "outputs": [],
   "source": [
    "out = out.to(torch.uint8)"
   ]
  },
  {
   "cell_type": "code",
   "execution_count": 28,
   "id": "682f7119-2bc0-4a40-bc04-c7e464242d66",
   "metadata": {
    "tags": []
   },
   "outputs": [
    {
     "data": {
      "text/plain": [
       "tensor([[[ 16,  17,  20,  ..., 132, 133, 134],\n",
       "         [ 16,  18,  21,  ..., 135, 135, 131],\n",
       "         [ 17,  19,  22,  ..., 136, 133, 130],\n",
       "         ...,\n",
       "         [123, 127, 125,  ..., 100, 101,  91],\n",
       "         [121, 121, 123,  ..., 100,  98,  89],\n",
       "         [118, 123, 127,  ..., 101,  91,  90]],\n",
       "\n",
       "        [[ 12,  12,  15,  ..., 103, 107, 107],\n",
       "         [ 12,  13,  15,  ..., 109, 111, 104],\n",
       "         [ 12,  13,  16,  ..., 112, 107, 101],\n",
       "         ...,\n",
       "         [ 89,  96,  94,  ...,  51,  51,  45],\n",
       "         [ 87,  87,  91,  ...,  50,  48,  42],\n",
       "         [ 86,  91,  97,  ...,  52,  43,  44]],\n",
       "\n",
       "        [[  8,   9,  10,  ...,  77,  82,  81],\n",
       "         [  8,   9,  11,  ...,  84,  87,  79],\n",
       "         [  9,  10,  11,  ...,  88,  83,  77],\n",
       "         ...,\n",
       "         [ 62,  70,  69,  ...,  25,  25,  22],\n",
       "         [ 62,  61,  64,  ...,  25,  23,  20],\n",
       "         [ 60,  65,  70,  ...,  26,  21,  22]]], dtype=torch.uint8)"
      ]
     },
     "execution_count": 28,
     "metadata": {},
     "output_type": "execute_result"
    }
   ],
   "source": [
    "out"
   ]
  },
  {
   "cell_type": "code",
   "execution_count": null,
   "id": "1fd07397-3fb5-4893-9478-0d7dc6b124f2",
   "metadata": {},
   "outputs": [],
   "source": []
  }
 ],
 "metadata": {
  "kernelspec": {
   "display_name": "Python 3 (ipykernel)",
   "language": "python",
   "name": "python3"
  },
  "language_info": {
   "codemirror_mode": {
    "name": "ipython",
    "version": 3
   },
   "file_extension": ".py",
   "mimetype": "text/x-python",
   "name": "python",
   "nbconvert_exporter": "python",
   "pygments_lexer": "ipython3",
   "version": "3.11.5"
  }
 },
 "nbformat": 4,
 "nbformat_minor": 5
}
