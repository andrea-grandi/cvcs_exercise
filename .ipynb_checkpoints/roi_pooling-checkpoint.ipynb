{
 "cells": [
  {
   "cell_type": "code",
   "execution_count": 1,
   "id": "0f88d396-e3a8-43b8-899b-cd9f10b15745",
   "metadata": {
    "tags": []
   },
   "outputs": [],
   "source": [
    "import random\n",
    "import torch\n",
    "\n",
    "n = random.randint(1, 3)\n",
    "C = random.randint(10, 20)\n",
    "H = random.randint(5, 10)\n",
    "W = random.randint(5, 10)\n",
    "oH = random.randint(2, 4)\n",
    "oW = random.randint(2, 4)\n",
    "L = random.randint(2, 6)\n",
    "input = torch.rand(n, C, H, W)\n",
    "boxes = [torch.zeros(L, 4) for _ in range(n)]\n",
    "for i in range(n):\n",
    "  boxes[i][:, 0] = torch.rand(L) * (H-oH)       # y\n",
    "  boxes[i][:, 1] = torch.rand(L) * (W-oW)       # x\n",
    "  boxes[i][:, 2] = oH + torch.rand(L) * (H-oH)  # w\n",
    "  boxes[i][:, 3] = oW + torch.rand(L) * (W-oW)  # h\n",
    "\n",
    "  boxes[i][:,2:] += boxes[i][:,:2]\n",
    "  boxes[i][:,2] = torch.clamp(boxes[i][:,2], max=H-1)\n",
    "  boxes[i][:,3] = torch.clamp(boxes[i][:,3], max=W-1)\n",
    "output_size = (oH, oW)"
   ]
  },
  {
   "cell_type": "code",
   "execution_count": 2,
   "id": "8ffefae0-26b4-48c6-b263-ea301254312a",
   "metadata": {
    "tags": []
   },
   "outputs": [
    {
     "data": {
      "text/plain": [
       "torch.Size([1, 14, 8, 8])"
      ]
     },
     "execution_count": 2,
     "metadata": {},
     "output_type": "execute_result"
    }
   ],
   "source": [
    "input.shape"
   ]
  },
  {
   "cell_type": "code",
   "execution_count": 3,
   "id": "4d3afd2e-c126-4a82-bd1d-fde772d57ddc",
   "metadata": {
    "tags": []
   },
   "outputs": [],
   "source": [
    "import torch.nn as nn\n",
    "import torch.nn.functional as F"
   ]
  },
  {
   "cell_type": "code",
   "execution_count": 4,
   "id": "ab601ffa-0a94-476b-a17b-90c562c68e7a",
   "metadata": {
    "tags": []
   },
   "outputs": [
    {
     "data": {
      "text/plain": [
       "torch.Size([1, 2, 14, 2, 4])"
      ]
     },
     "execution_count": 4,
     "metadata": {},
     "output_type": "execute_result"
    }
   ],
   "source": [
    "n, C, H, W = input.shape\n",
    "oH, oW = output_size\n",
    "L, _ = boxes[0].shape\n",
    "out = torch.randn((n, L, C, oH, oW), dtype=torch.float32)\n",
    "out.shape"
   ]
  },
  {
   "cell_type": "code",
   "execution_count": 5,
   "id": "80b70ecb-4ed1-40df-9ea8-3bfc7509fe37",
   "metadata": {
    "tags": []
   },
   "outputs": [
    {
     "name": "stdout",
     "output_type": "stream",
     "text": [
      "tensor([[3.0269, 1.1751, 5.3938, 5.6796],\n",
      "        [3.5404, 1.2701, 7.0000, 7.0000]])\n"
     ]
    }
   ],
   "source": [
    "for box in boxes:\n",
    "    print(box)"
   ]
  },
  {
   "cell_type": "code",
   "execution_count": 8,
   "id": "3899f6ef-b088-4ea6-8a4a-baef7b1e0642",
   "metadata": {},
   "outputs": [
    {
     "data": {
      "text/plain": [
       "torch.Size([1, 2, 14, 2, 4])"
      ]
     },
     "execution_count": 8,
     "metadata": {},
     "output_type": "execute_result"
    }
   ],
   "source": [
    "# For all channels\n",
    "for i in range(n):\n",
    "    feature_map = input[i]\n",
    "\n",
    "    # For all the boxes\n",
    "    for box in boxes[i]:\n",
    "        y1, x1, y2, x2 = box\n",
    "        \n",
    "        # Rounding at the nearest integer\n",
    "        y1 = torch.round(y1)\n",
    "        x1 = torch.round(x1)\n",
    "        y2 = torch.round(y2)\n",
    "        x2 = torch.round(x2)\n",
    "        \n",
    "        # Compute roi\n",
    "        for i_grid in range(oH):\n",
    "            for j_grid in range(oW):\n",
    "                # x axis\n",
    "                y_range_start = torch.floor(y1 + i_grid * (y2 - y1 + 1) / oH).int()\n",
    "                y_range_end = torch.ceil(y1 + (i_grid + 1) * (y2 - y1 + 1) / oH).int()\n",
    "                \n",
    "                # y axis\n",
    "                x_range_start = torch.floor(x1 + j_grid * (x2 - x1 + 1) / oW).int()\n",
    "                x_range_end = torch.ceil(x1 + (j_grid + 1) * (x2 - x1 + 1) / oW).int()\n",
    "                \n",
    "                y_range_start = torch.clamp(y_range_start, min=0, max=H)\n",
    "                y_range_end = torch.clamp(y_range_end, min=0, max=H)\n",
    "                x_range_start = torch.clamp(x_range_start, min=0, max=W)\n",
    "                x_range_end = torch.clamp(x_range_end, min=0, max=W)\n",
    "\n",
    "                region = feature_map[:, y_range_start:y_range_end, x_range_start:x_range_end]\n",
    "                \n",
    "                max_pooled = region.amax(dim=(1, 2))\n",
    "\n",
    "                out[i, i, :, i_grid, j_grid] = max_pooled\n",
    "        \n",
    "out.shape"
   ]
  },
  {
   "cell_type": "code",
   "execution_count": null,
   "id": "f97caa65-f2bf-4cdc-9ef6-5fc0179d8064",
   "metadata": {},
   "outputs": [],
   "source": []
  }
 ],
 "metadata": {
  "kernelspec": {
   "display_name": "Python 3 (ipykernel)",
   "language": "python",
   "name": "python3"
  },
  "language_info": {
   "codemirror_mode": {
    "name": "ipython",
    "version": 3
   },
   "file_extension": ".py",
   "mimetype": "text/x-python",
   "name": "python",
   "nbconvert_exporter": "python",
   "pygments_lexer": "ipython3",
   "version": "3.11.5"
  }
 },
 "nbformat": 4,
 "nbformat_minor": 5
}
