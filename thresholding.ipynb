{
 "cells": [
  {
   "cell_type": "code",
   "execution_count": 1,
   "id": "4a43cad8-07c6-4b91-8589-e8e41d2aecc0",
   "metadata": {
    "tags": []
   },
   "outputs": [],
   "source": [
    "import random\n",
    "import numpy as np\n",
    "from skimage import data\n",
    "from skimage.transform import resize\n",
    "import torch\n",
    "\n",
    "im = data.camera()\n",
    "im = resize(im, (im.shape[0] // 2, im.shape[1] // 2), mode='reflect', preserve_range=True, anti_aliasing=True).astype(np.uint8)\n",
    "im = torch.from_numpy(im)\n",
    "val = random.randint(0, 255)"
   ]
  },
  {
   "cell_type": "code",
   "execution_count": 2,
   "id": "11c82125-d72e-4f92-ac30-76b8dba04dc8",
   "metadata": {
    "tags": []
   },
   "outputs": [
    {
     "data": {
      "text/plain": [
       "torch.Size([256, 256])"
      ]
     },
     "execution_count": 2,
     "metadata": {},
     "output_type": "execute_result"
    }
   ],
   "source": [
    "im.shape"
   ]
  },
  {
   "cell_type": "code",
   "execution_count": 3,
   "id": "0e84183c-4885-4bd3-bd01-0fd6038a6cd9",
   "metadata": {
    "tags": []
   },
   "outputs": [
    {
     "data": {
      "text/plain": [
       "74"
      ]
     },
     "execution_count": 3,
     "metadata": {},
     "output_type": "execute_result"
    }
   ],
   "source": [
    "val"
   ]
  },
  {
   "cell_type": "code",
   "execution_count": 9,
   "id": "69763316-b798-4ecd-9b62-2a76b3f053e0",
   "metadata": {
    "tags": []
   },
   "outputs": [
    {
     "data": {
      "text/plain": [
       "tensor([[199, 199, 199,  ..., 189, 189, 189],\n",
       "        [199, 199, 199,  ..., 189, 190, 190],\n",
       "        [199, 199, 199,  ..., 190, 190, 190],\n",
       "        ...,\n",
       "        [ 24,  25,  24,  ..., 137, 143, 119],\n",
       "        [ 25,  25,  25,  ..., 143, 156, 144],\n",
       "        [ 25,  25,  24,  ..., 144, 147, 151]], dtype=torch.uint8)"
      ]
     },
     "execution_count": 9,
     "metadata": {},
     "output_type": "execute_result"
    }
   ],
   "source": [
    "im"
   ]
  },
  {
   "cell_type": "code",
   "execution_count": 15,
   "id": "183dbd7b-e081-4bee-aae8-df117bf9ea3d",
   "metadata": {
    "tags": []
   },
   "outputs": [
    {
     "data": {
      "text/plain": [
       "tensor([[0., 0., 0.,  ..., 0., 0., 0.],\n",
       "        [0., 0., 0.,  ..., 0., 0., 0.],\n",
       "        [0., 0., 0.,  ..., 0., 0., 0.],\n",
       "        ...,\n",
       "        [0., 0., 0.,  ..., 0., 0., 0.],\n",
       "        [0., 0., 0.,  ..., 0., 0., 0.],\n",
       "        [0., 0., 0.,  ..., 0., 0., 0.]])"
      ]
     },
     "execution_count": 15,
     "metadata": {},
     "output_type": "execute_result"
    }
   ],
   "source": [
    "out = torch.zeros(im.shape)\n",
    "out"
   ]
  },
  {
   "cell_type": "code",
   "execution_count": 21,
   "id": "f6f98e58-dd13-4905-b524-cb9d95f5a63d",
   "metadata": {
    "tags": []
   },
   "outputs": [],
   "source": [
    "out[(im.float() > val)] = 255"
   ]
  },
  {
   "cell_type": "code",
   "execution_count": 22,
   "id": "4522a255-3392-484e-974b-160ecbcee8bc",
   "metadata": {
    "tags": []
   },
   "outputs": [
    {
     "data": {
      "text/plain": [
       "tensor([[255., 255., 255.,  ..., 255., 255., 255.],\n",
       "        [255., 255., 255.,  ..., 255., 255., 255.],\n",
       "        [255., 255., 255.,  ..., 255., 255., 255.],\n",
       "        ...,\n",
       "        [  0.,   0.,   0.,  ..., 255., 255., 255.],\n",
       "        [  0.,   0.,   0.,  ..., 255., 255., 255.],\n",
       "        [  0.,   0.,   0.,  ..., 255., 255., 255.]])"
      ]
     },
     "execution_count": 22,
     "metadata": {},
     "output_type": "execute_result"
    }
   ],
   "source": [
    "out"
   ]
  },
  {
   "cell_type": "code",
   "execution_count": 23,
   "id": "f27f2b1e-d489-4f7f-b749-7aead7db2832",
   "metadata": {
    "tags": []
   },
   "outputs": [],
   "source": [
    "out = out.to(torch.uint8)"
   ]
  },
  {
   "cell_type": "code",
   "execution_count": 24,
   "id": "977f3a21-a193-4167-83bc-b36639b34f35",
   "metadata": {
    "tags": []
   },
   "outputs": [
    {
     "data": {
      "text/plain": [
       "tensor([[255, 255, 255,  ..., 255, 255, 255],\n",
       "        [255, 255, 255,  ..., 255, 255, 255],\n",
       "        [255, 255, 255,  ..., 255, 255, 255],\n",
       "        ...,\n",
       "        [  0,   0,   0,  ..., 255, 255, 255],\n",
       "        [  0,   0,   0,  ..., 255, 255, 255],\n",
       "        [  0,   0,   0,  ..., 255, 255, 255]], dtype=torch.uint8)"
      ]
     },
     "execution_count": 24,
     "metadata": {},
     "output_type": "execute_result"
    }
   ],
   "source": [
    "out"
   ]
  }
 ],
 "metadata": {
  "kernelspec": {
   "display_name": "Python 3 (ipykernel)",
   "language": "python",
   "name": "python3"
  },
  "language_info": {
   "codemirror_mode": {
    "name": "ipython",
    "version": 3
   },
   "file_extension": ".py",
   "mimetype": "text/x-python",
   "name": "python",
   "nbconvert_exporter": "python",
   "pygments_lexer": "ipython3",
   "version": "3.11.5"
  }
 },
 "nbformat": 4,
 "nbformat_minor": 5
}
