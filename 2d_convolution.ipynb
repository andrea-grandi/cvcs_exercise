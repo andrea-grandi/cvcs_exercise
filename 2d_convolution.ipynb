{
 "cells": [
  {
   "cell_type": "code",
   "execution_count": 23,
   "id": "0eb7ec18-6d1d-42ec-ab70-2665ed5ec14c",
   "metadata": {
    "tags": []
   },
   "outputs": [],
   "source": [
    "import random\n",
    "import torch\n",
    "\n",
    "n = random.randint(2, 6)\n",
    "iC = random.randint(2, 6)\n",
    "oC = random.randint(2, 6)\n",
    "H = random.randint(10, 20)\n",
    "W = random.randint(10, 20)\n",
    "kH = random.randint(2, 6)\n",
    "kW = random.randint(2, 6)\n",
    "\n",
    "input = torch.rand(n, iC, H, W, dtype=torch.float32)\n",
    "kernel = torch.rand(oC, iC, kH, kW, dtype=torch.float32)"
   ]
  },
  {
   "cell_type": "code",
   "execution_count": 32,
   "id": "b323aa40-2704-468f-94ec-b877eb4a73d8",
   "metadata": {
    "tags": []
   },
   "outputs": [
    {
     "data": {
      "image/png": "[encoded data removed]",
      "text/plain": [
       "<Figure size 640x480 with 1 Axes>"
      ]
     },
     "metadata": {},
     "output_type": "display_data"
    }
   ],
   "source": [
    "import matplotlib.pyplot as plt\n",
    "plt.imshow(input[0, 0, :, :])\n",
    "plt.show()"
   ]
  },
  {
   "cell_type": "code",
   "execution_count": 35,
   "id": "c4f3be69-dbdb-453a-9bd6-13a3fd317e41",
   "metadata": {
    "tags": []
   },
   "outputs": [],
   "source": [
    "import torch\n",
    "\n",
    "n, _, H, W = input.shape\n",
    "oC, _, kH, kW = kernel.shape\n",
    "\n",
    "oH, oW = H-(kH-1), W-(kW-1)\n",
    "\n",
    "out = torch.zeros((n, oC, oH, oW), dtype=torch.float32)\n",
    "\n",
    "for i in range(oH):\n",
    "    for j in range(oW):\n",
    "        inp = input.unsqueeze(1)[:,:,:,i:i+kH,j:j+kW]\n",
    "        ker = kernel.unsqueeze(0)\n",
    "        out[:,:,i,j]=(inp*ker).sum((-1,-2,-3))"
   ]
  },
  {
   "cell_type": "code",
   "execution_count": 37,
   "id": "20d58073-09fc-4819-91d3-ae09298042ed",
   "metadata": {
    "tags": []
   },
   "outputs": [
    {
     "data": {
      "text/plain": [
       "torch.Size([2, 6, 18, 10])"
      ]
     },
     "execution_count": 37,
     "metadata": {},
     "output_type": "execute_result"
    }
   ],
   "source": [
    "out.shape"
   ]
  },
  {
   "cell_type": "code",
   "execution_count": null,
   "id": "a543f0a2-e79f-4ceb-b914-aa50f28daf35",
   "metadata": {},
   "outputs": [],
   "source": []
  }
 ],
 "metadata": {
  "kernelspec": {
   "display_name": "Python 3 (ipykernel)",
   "language": "python",
   "name": "python3"
  },
  "language_info": {
   "codemirror_mode": {
    "name": "ipython",
    "version": 3
   },
   "file_extension": ".py",
   "mimetype": "text/x-python",
   "name": "python",
   "nbconvert_exporter": "python",
   "pygments_lexer": "ipython3",
   "version": "3.11.7"
  }
 },
 "nbformat": 4,
 "nbformat_minor": 5
}
