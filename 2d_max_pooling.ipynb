{
 "cells": [
  {
   "cell_type": "code",
   "execution_count": 18,
   "id": "75d4cf0b-72cf-41fe-83a0-1370e071ce74",
   "metadata": {
    "tags": []
   },
   "outputs": [],
   "source": [
    "import random\n",
    "import torch\n",
    "\n",
    "n = random.randint(2, 6)\n",
    "iC = random.randint(2, 6)\n",
    "H = random.randint(10, 20)\n",
    "W = random.randint(10, 20)\n",
    "kH = random.randint(2, 5)\n",
    "kW = random.randint(2, 5)\n",
    "s = random.randint(2, 3)\n",
    "input = torch.rand((n, iC, H, W), dtype=torch.float32)"
   ]
  },
  {
   "cell_type": "code",
   "execution_count": 19,
   "id": "fe04ebfc-2977-4b37-b7d4-3fbd81c73e6d",
   "metadata": {
    "tags": []
   },
   "outputs": [],
   "source": [
    "n, _, H, W = input.shape"
   ]
  },
  {
   "cell_type": "code",
   "execution_count": 20,
   "id": "be841408-4bc0-4459-8ae7-32c9a21bc723",
   "metadata": {
    "tags": []
   },
   "outputs": [
    {
     "data": {
      "text/plain": [
       "torch.Size([2, 3, 5, 6])"
      ]
     },
     "execution_count": 20,
     "metadata": {},
     "output_type": "execute_result"
    }
   ],
   "source": [
    "oH, oW = int((H-kH)/s+1),int((W-kW)/s+1)\n",
    "out = torch.zeros((n,iC,oH,oW), dtype=torch.float32)\n",
    "out.shape"
   ]
  },
  {
   "cell_type": "code",
   "execution_count": 25,
   "id": "1d48cbb0-80fd-4830-9b13-d74c2dc82b8c",
   "metadata": {
    "tags": []
   },
   "outputs": [],
   "source": [
    "for i in range(oH):\n",
    "    for j in range(oW):\n",
    "        tmp = torch.flatten(input[:,:,i*s:i*s+kH,j*s:j*s+kW], start_dim=2)\n",
    "        out[:,:,i,j] = torch.max(tmp, dim=-1)[0]"
   ]
  },
  {
   "cell_type": "code",
   "execution_count": 27,
   "id": "005747c6-b0ac-48b4-bbaa-ca1b0c0dae6a",
   "metadata": {
    "tags": []
   },
   "outputs": [
    {
     "data": {
      "text/plain": [
       "torch.Size([2, 3, 5, 6])"
      ]
     },
     "execution_count": 27,
     "metadata": {},
     "output_type": "execute_result"
    }
   ],
   "source": [
    "out.shape"
   ]
  }
 ],
 "metadata": {
  "kernelspec": {
   "display_name": "Python 3 (ipykernel)",
   "language": "python",
   "name": "python3"
  },
  "language_info": {
   "codemirror_mode": {
    "name": "ipython",
    "version": 3
   },
   "file_extension": ".py",
   "mimetype": "text/x-python",
   "name": "python",
   "nbconvert_exporter": "python",
   "pygments_lexer": "ipython3",
   "version": "3.11.7"
  }
 },
 "nbformat": 4,
 "nbformat_minor": 5
}
