{
 "cells": [
  {
   "cell_type": "code",
   "execution_count": 55,
   "id": "03284423-bc13-4f43-a508-b2c61ee31108",
   "metadata": {
    "tags": []
   },
   "outputs": [],
   "source": [
    "import random\n",
    "import torch\n",
    "\n",
    "n = random.randint(1, 3)\n",
    "H = random.randint(10, 20)\n",
    "W = random.randint(10, 20)\n",
    "kH = random.randint(2, 6)\n",
    "kW = random.randint(2, 6)\n",
    "input = torch.rand((n, H, W), dtype=torch.float32)\n",
    "template = torch.rand((kH, kW), dtype=torch.float32)"
   ]
  },
  {
   "cell_type": "code",
   "execution_count": 56,
   "id": "6af4eb2b-5fbe-42f5-93d7-231c76dfc974",
   "metadata": {
    "tags": []
   },
   "outputs": [],
   "source": [
    "import matplotlib.pyplot as plt"
   ]
  },
  {
   "cell_type": "code",
   "execution_count": 57,
   "id": "43e412bf-54d0-428a-afad-ad7d2739d041",
   "metadata": {
    "tags": []
   },
   "outputs": [
    {
     "data": {
      "text/plain": [
       "torch.Size([1, 17, 20])"
      ]
     },
     "execution_count": 57,
     "metadata": {},
     "output_type": "execute_result"
    }
   ],
   "source": [
    "input.shape"
   ]
  },
  {
   "cell_type": "code",
   "execution_count": 58,
   "id": "c9513721-e150-4280-93e3-9ccd4f876a10",
   "metadata": {
    "tags": []
   },
   "outputs": [
    {
     "data": {
      "text/plain": [
       "torch.Size([4, 6])"
      ]
     },
     "execution_count": 58,
     "metadata": {},
     "output_type": "execute_result"
    }
   ],
   "source": [
    "template.shape"
   ]
  },
  {
   "cell_type": "code",
   "execution_count": 59,
   "id": "9be6117f-79a0-4e54-9c34-3de580704f82",
   "metadata": {
    "tags": []
   },
   "outputs": [
    {
     "data": {
      "text/plain": [
       "<matplotlib.image.AxesImage at 0x147c492d0>"
      ]
     },
     "execution_count": 59,
     "metadata": {},
     "output_type": "execute_result"
    },
    {
     "data": {
      "image/png": "[encoded data removed]",
      "text/plain": [
       "<Figure size 640x480 with 1 Axes>"
      ]
     },
     "metadata": {},
     "output_type": "display_data"
    }
   ],
   "source": [
    "plt.imshow(template)"
   ]
  },
  {
   "cell_type": "code",
   "execution_count": 60,
   "id": "327a6ea7-73c6-481a-8652-3521e5c1c691",
   "metadata": {
    "tags": []
   },
   "outputs": [],
   "source": [
    "n, H, W = input.shape"
   ]
  },
  {
   "cell_type": "code",
   "execution_count": 61,
   "id": "c7628e02-f715-440c-bfd2-2cecf71a8817",
   "metadata": {
    "tags": []
   },
   "outputs": [],
   "source": [
    "kH, kW = template.shape"
   ]
  },
  {
   "cell_type": "code",
   "execution_count": 62,
   "id": "44bd4fff-6bc5-472d-b57b-8840873e82aa",
   "metadata": {
    "tags": []
   },
   "outputs": [],
   "source": [
    "oH = H-(kH-1)\n",
    "oW = W-(kW-1)"
   ]
  },
  {
   "cell_type": "code",
   "execution_count": 63,
   "id": "44590f63-4cb4-4eff-a194-0edc5db5ad37",
   "metadata": {
    "tags": []
   },
   "outputs": [
    {
     "data": {
      "text/plain": [
       "torch.Size([1, 14, 15])"
      ]
     },
     "execution_count": 63,
     "metadata": {},
     "output_type": "execute_result"
    }
   ],
   "source": [
    "out = torch.randn((n, oH, oW), dtype=torch.float32)\n",
    "out.shape"
   ]
  },
  {
   "cell_type": "code",
   "execution_count": 64,
   "id": "0d09dfe6-46db-4000-8a09-5be3835b46de",
   "metadata": {
    "tags": []
   },
   "outputs": [
    {
     "data": {
      "text/plain": [
       "torch.Size([1, 4, 6])"
      ]
     },
     "execution_count": 64,
     "metadata": {},
     "output_type": "execute_result"
    }
   ],
   "source": [
    "template = template.unsqueeze(0)\n",
    "template.shape"
   ]
  },
  {
   "cell_type": "code",
   "execution_count": 65,
   "id": "a8b5853f-7731-472b-90c9-2dd3b73fda56",
   "metadata": {
    "tags": []
   },
   "outputs": [],
   "source": [
    "for i in range(oH):\n",
    "    for j in range(oW):\n",
    "        sample = input[:, i:i+kH, j:j+kW]\n",
    "        distance = (template - sample)**2\n",
    "        out[:, i, j] = distance.sum(dim=(1, 2))"
   ]
  },
  {
   "cell_type": "code",
   "execution_count": 66,
   "id": "50767672-4bec-4f8b-ac8b-cd2b401bc074",
   "metadata": {
    "tags": []
   },
   "outputs": [
    {
     "data": {
      "text/plain": [
       "torch.Size([1, 14, 15])"
      ]
     },
     "execution_count": 66,
     "metadata": {},
     "output_type": "execute_result"
    }
   ],
   "source": [
    "out.shape"
   ]
  },
  {
   "cell_type": "code",
   "execution_count": null,
   "id": "aec870f8-053d-42f1-97c6-8b6256e555b3",
   "metadata": {},
   "outputs": [],
   "source": []
  }
 ],
 "metadata": {
  "kernelspec": {
   "display_name": "Python 3 (ipykernel)",
   "language": "python",
   "name": "python3"
  },
  "language_info": {
   "codemirror_mode": {
    "name": "ipython",
    "version": 3
   },
   "file_extension": ".py",
   "mimetype": "text/x-python",
   "name": "python",
   "nbconvert_exporter": "python",
   "pygments_lexer": "ipython3",
   "version": "3.11.7"
  }
 },
 "nbformat": 4,
 "nbformat_minor": 5
}
